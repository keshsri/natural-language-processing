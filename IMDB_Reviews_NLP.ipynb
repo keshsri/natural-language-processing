{
  "nbformat": 4,
  "nbformat_minor": 0,
  "metadata": {
    "colab": {
      "provenance": [],
      "authorship_tag": "ABX9TyMTRmXpgdBdEyBm3OEj4Y4I",
      "include_colab_link": true
    },
    "kernelspec": {
      "name": "python3",
      "display_name": "Python 3"
    },
    "language_info": {
      "name": "python"
    },
    "accelerator": "TPU"
  },
  "cells": [
    {
      "cell_type": "markdown",
      "metadata": {
        "id": "view-in-github",
        "colab_type": "text"
      },
      "source": [
        "<a href=\"https://colab.research.google.com/github/keshsri/machine-learning/blob/main/IMDB_Reviews_NLP.ipynb\" target=\"_parent\"><img src=\"https://colab.research.google.com/assets/colab-badge.svg\" alt=\"Open In Colab\"/></a>"
      ]
    },
    {
      "cell_type": "code",
      "source": [
        "import tensorflow_datasets as tfds\n",
        "\n",
        "imdb, info = tfds.load(\"imdb_reviews\", with_info=True, as_supervised=True)"
      ],
      "metadata": {
        "id": "3k2PpcQy65cu"
      },
      "execution_count": null,
      "outputs": []
    },
    {
      "cell_type": "code",
      "source": [
        "import numpy as np\n",
        "\n",
        "train_data, test_data = imdb['train'], imdb['test']"
      ],
      "metadata": {
        "id": "bs-akk-CTxFY"
      },
      "execution_count": null,
      "outputs": []
    },
    {
      "cell_type": "code",
      "source": [
        "training_sentences = []\n",
        "training_labels =[]\n",
        "\n",
        "testing_sentences = []\n",
        "testing_labels = []\n",
        "\n",
        "for s,l in train_data:\n",
        "  training_sentences.append(s.numpy().decode('utf8'))\n",
        "  training_labels.append(l.numpy())\n",
        "\n",
        "for s,l in test_data:\n",
        "  testing_sentences.append(s.numpy().decode('utf8'))\n",
        "  testing_labels.append(l.numpy())"
      ],
      "metadata": {
        "id": "O11kryyOaMf0"
      },
      "execution_count": null,
      "outputs": []
    },
    {
      "cell_type": "code",
      "source": [
        "import tensorflow as tf\n",
        "\n",
        "training_labels_final = np.array(training_labels)\n",
        "testing_labels_final = np.array(testing_labels)\n",
        "\n",
        "vocab_size = 10000\n",
        "embedding_dim = 16\n",
        "max_length = 120\n",
        "trunc_type = 'post'\n",
        "oov_tok = '<OOV>'"
      ],
      "metadata": {
        "id": "Usq1pwribkmZ"
      },
      "execution_count": null,
      "outputs": []
    },
    {
      "cell_type": "code",
      "source": [
        "from tensorflow.keras.preprocessing.text import Tokenizer\n",
        "from tensorflow.keras.preprocessing.sequence import pad_sequences\n",
        "\n",
        "tokenizer = Tokenizer(num_words=vocab_size, oov_token=oov_tok)\n",
        "tokenizer.fit_on_texts(training_sentences)\n",
        "word_index = tokenizer.word_index\n",
        "\n",
        "sequences = tokenizer.texts_to_sequences(training_sentences)\n",
        "padded = pad_sequences(sequences, maxlen=max_length, truncating=trunc_type)\n",
        "\n",
        "testing_sequences = tokenizer.texts_to_sequences(testing_sentences)\n",
        "testing_padded = pad_sequences(testing_sequences, maxlen=max_length)"
      ],
      "metadata": {
        "id": "AxmEhu_FkrTI"
      },
      "execution_count": null,
      "outputs": []
    },
    {
      "cell_type": "code",
      "source": [
        "model = tf.keras.models.Sequential([\n",
        "    tf.keras.layers.Embedding(vocab_size, embedding_dim, input_length=max_length),\n",
        "    tf.keras.layers.GlobalAveragePooling1D(),\n",
        "    tf.keras.layers.Dense(6, activation='relu'),\n",
        "    tf.keras.layers.Dense(1, activation='sigmoid')\n",
        "])"
      ],
      "metadata": {
        "id": "GYoa_zvGl1sZ"
      },
      "execution_count": null,
      "outputs": []
    },
    {
      "cell_type": "code",
      "source": [
        "model1 = tf.keras.models.Sequential([\n",
        "    tf.keras.layers.Embedding(vocab_size, embedding_dim, input_length=max_length),\n",
        "    tf.keras.layers.Flatten(),\n",
        "    tf.keras.layers.Dense(6, activation='relu'),\n",
        "    tf.keras.layers.Dense(1, activation='sigmoid')\n",
        "])"
      ],
      "metadata": {
        "id": "3WFBUlNgpe-F"
      },
      "execution_count": null,
      "outputs": []
    },
    {
      "cell_type": "code",
      "source": [
        "model.summary()\n",
        "model1.summary()"
      ],
      "metadata": {
        "colab": {
          "base_uri": "https://localhost:8080/"
        },
        "id": "M1ohbJKTncs-",
        "outputId": "0b6922b3-5d25-44e0-b885-82665500aaa7"
      },
      "execution_count": null,
      "outputs": [
        {
          "output_type": "stream",
          "name": "stdout",
          "text": [
            "Model: \"sequential_1\"\n",
            "_________________________________________________________________\n",
            " Layer (type)                Output Shape              Param #   \n",
            "=================================================================\n",
            " embedding_1 (Embedding)     (None, 120, 16)           160000    \n",
            "                                                                 \n",
            " global_average_pooling1d (  (None, 16)                0         \n",
            " GlobalAveragePooling1D)                                         \n",
            "                                                                 \n",
            " dense_2 (Dense)             (None, 6)                 102       \n",
            "                                                                 \n",
            " dense_3 (Dense)             (None, 1)                 7         \n",
            "                                                                 \n",
            "=================================================================\n",
            "Total params: 160109 (625.43 KB)\n",
            "Trainable params: 160109 (625.43 KB)\n",
            "Non-trainable params: 0 (0.00 Byte)\n",
            "_________________________________________________________________\n",
            "Model: \"sequential_2\"\n",
            "_________________________________________________________________\n",
            " Layer (type)                Output Shape              Param #   \n",
            "=================================================================\n",
            " embedding_2 (Embedding)     (None, 120, 16)           160000    \n",
            "                                                                 \n",
            " flatten_1 (Flatten)         (None, 1920)              0         \n",
            "                                                                 \n",
            " dense_4 (Dense)             (None, 6)                 11526     \n",
            "                                                                 \n",
            " dense_5 (Dense)             (None, 1)                 7         \n",
            "                                                                 \n",
            "=================================================================\n",
            "Total params: 171533 (670.05 KB)\n",
            "Trainable params: 171533 (670.05 KB)\n",
            "Non-trainable params: 0 (0.00 Byte)\n",
            "_________________________________________________________________\n"
          ]
        }
      ]
    },
    {
      "cell_type": "code",
      "source": [
        "model.compile(\n",
        "    loss='binary_crossentropy',\n",
        "    optimizer='adam',\n",
        "    metrics=['accuracy']\n",
        ")\n",
        "\n",
        "model1.compile(\n",
        "    loss='binary_crossentropy',\n",
        "    optimizer='adam',\n",
        "    metrics=['accuracy']\n",
        ")"
      ],
      "metadata": {
        "id": "6lAEGW-qpDtx"
      },
      "execution_count": null,
      "outputs": []
    },
    {
      "cell_type": "code",
      "source": [
        "num_epochs = 10\n",
        "\n",
        "model.fit(padded,\n",
        "          training_labels_final,\n",
        "          epochs=num_epochs,\n",
        "          validation_data=(testing_padded, testing_labels_final))\n",
        "\n",
        "model1.fit(padded,\n",
        "          training_labels_final,\n",
        "          epochs=num_epochs,\n",
        "          validation_data=(testing_padded, testing_labels_final))"
      ],
      "metadata": {
        "colab": {
          "base_uri": "https://localhost:8080/"
        },
        "id": "_UVdd9rKqG_U",
        "outputId": "91618fe2-3d5e-4941-cc04-fd410910bf76"
      },
      "execution_count": null,
      "outputs": [
        {
          "output_type": "stream",
          "name": "stdout",
          "text": [
            "Epoch 1/10\n",
            "782/782 [==============================] - 9s 10ms/step - loss: 0.5648 - accuracy: 0.7341 - val_loss: 0.3981 - val_accuracy: 0.8421\n",
            "Epoch 2/10\n",
            "782/782 [==============================] - 8s 10ms/step - loss: 0.3361 - accuracy: 0.8633 - val_loss: 0.3325 - val_accuracy: 0.8584\n",
            "Epoch 3/10\n",
            "782/782 [==============================] - 10s 13ms/step - loss: 0.2690 - accuracy: 0.8903 - val_loss: 0.3311 - val_accuracy: 0.8585\n",
            "Epoch 4/10\n",
            "782/782 [==============================] - 10s 12ms/step - loss: 0.2327 - accuracy: 0.9103 - val_loss: 0.3461 - val_accuracy: 0.8542\n",
            "Epoch 5/10\n",
            "782/782 [==============================] - 9s 12ms/step - loss: 0.2062 - accuracy: 0.9226 - val_loss: 0.3709 - val_accuracy: 0.8476\n",
            "Epoch 6/10\n",
            "782/782 [==============================] - 6s 8ms/step - loss: 0.1844 - accuracy: 0.9339 - val_loss: 0.3964 - val_accuracy: 0.8412\n",
            "Epoch 7/10\n",
            "782/782 [==============================] - 7s 9ms/step - loss: 0.1673 - accuracy: 0.9400 - val_loss: 0.4284 - val_accuracy: 0.8367\n",
            "Epoch 8/10\n",
            "782/782 [==============================] - 5s 7ms/step - loss: 0.1518 - accuracy: 0.9470 - val_loss: 0.4647 - val_accuracy: 0.8295\n",
            "Epoch 9/10\n",
            "782/782 [==============================] - 8s 10ms/step - loss: 0.1385 - accuracy: 0.9530 - val_loss: 0.4947 - val_accuracy: 0.8296\n",
            "Epoch 10/10\n",
            "782/782 [==============================] - 5s 7ms/step - loss: 0.1264 - accuracy: 0.9587 - val_loss: 0.5361 - val_accuracy: 0.8233\n",
            "Epoch 1/10\n",
            "782/782 [==============================] - 9s 10ms/step - loss: 0.4905 - accuracy: 0.7474 - val_loss: 0.3609 - val_accuracy: 0.8417\n",
            "Epoch 2/10\n",
            "782/782 [==============================] - 9s 11ms/step - loss: 0.2330 - accuracy: 0.9102 - val_loss: 0.3685 - val_accuracy: 0.8398\n",
            "Epoch 3/10\n",
            "782/782 [==============================] - 7s 9ms/step - loss: 0.0819 - accuracy: 0.9795 - val_loss: 0.4590 - val_accuracy: 0.8269\n",
            "Epoch 4/10\n",
            "782/782 [==============================] - 8s 10ms/step - loss: 0.0197 - accuracy: 0.9976 - val_loss: 0.5357 - val_accuracy: 0.8264\n",
            "Epoch 5/10\n",
            "782/782 [==============================] - 8s 11ms/step - loss: 0.0053 - accuracy: 0.9996 - val_loss: 0.5924 - val_accuracy: 0.8280\n",
            "Epoch 6/10\n",
            "782/782 [==============================] - 6s 8ms/step - loss: 0.0016 - accuracy: 1.0000 - val_loss: 0.6392 - val_accuracy: 0.8293\n",
            "Epoch 7/10\n",
            "782/782 [==============================] - 8s 10ms/step - loss: 8.0700e-04 - accuracy: 1.0000 - val_loss: 0.6786 - val_accuracy: 0.8304\n",
            "Epoch 8/10\n",
            "782/782 [==============================] - 7s 8ms/step - loss: 4.3684e-04 - accuracy: 1.0000 - val_loss: 0.7184 - val_accuracy: 0.8302\n",
            "Epoch 9/10\n",
            "782/782 [==============================] - 8s 10ms/step - loss: 2.5511e-04 - accuracy: 1.0000 - val_loss: 0.7558 - val_accuracy: 0.8301\n",
            "Epoch 10/10\n",
            "782/782 [==============================] - 6s 7ms/step - loss: 1.5190e-04 - accuracy: 1.0000 - val_loss: 0.7925 - val_accuracy: 0.8302\n"
          ]
        },
        {
          "output_type": "execute_result",
          "data": {
            "text/plain": [
              "<keras.src.callbacks.History at 0x7e5c2b571720>"
            ]
          },
          "metadata": {},
          "execution_count": 15
        }
      ]
    },
    {
      "cell_type": "code",
      "source": [
        "e = model.layers[0]\n",
        "weights = e.get_weights()[0]\n",
        "print(weights.shape)"
      ],
      "metadata": {
        "colab": {
          "base_uri": "https://localhost:8080/"
        },
        "id": "68T2XuqFqiLL",
        "outputId": "78f5dced-edee-4c5d-b50f-8e10d51ec9a9"
      },
      "execution_count": null,
      "outputs": [
        {
          "output_type": "stream",
          "name": "stdout",
          "text": [
            "(10000, 16)\n"
          ]
        }
      ]
    },
    {
      "cell_type": "code",
      "source": [
        "import io\n",
        "\n",
        "reverse_word_index = tokenizer.index_word\n",
        "\n",
        "out_v = io.open('vecs.tsv', 'w', encoding='utf8')\n",
        "out_m = io.open('meta.tsv', 'w', encoding='utf8')\n",
        "for word_num in range(1, vocab_size):\n",
        "  word = reverse_word_index[word_num]\n",
        "  embeddings = weights[word_num]\n",
        "  out_m.write(word + \"\\n\")\n",
        "  out_v.write('\\t'.join([str(x) for x in embeddings]) + \"\\n\")\n",
        "out_v.close()\n",
        "out_m.close()"
      ],
      "metadata": {
        "id": "G4sUgJ1_rWTZ"
      },
      "execution_count": null,
      "outputs": []
    },
    {
      "cell_type": "code",
      "source": [],
      "metadata": {
        "id": "zJPSBSorsisO"
      },
      "execution_count": null,
      "outputs": []
    }
  ]
}